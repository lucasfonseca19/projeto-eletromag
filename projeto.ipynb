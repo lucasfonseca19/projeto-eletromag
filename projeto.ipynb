{
 "cells": [
  {
   "cell_type": "markdown",
   "metadata": {},
   "source": [
    "# Diagrama do modelo eletrodinâmico do circuito"
   ]
  },
  {
   "cell_type": "markdown",
   "metadata": {},
   "source": [
    "<img src=\"circuito.png\" alt=\"Diagrama do circuito\" style=\"height: 100px; width:100px;\"/>"
   ]
  },
  {
   "cell_type": "markdown",
   "metadata": {},
   "source": [
    "## Importações"
   ]
  },
  {
   "cell_type": "code",
   "execution_count": 1,
   "metadata": {},
   "outputs": [],
   "source": [
    "from cmath import *\n",
    "from math import sqrt, pow, pi\n",
    "import numpy as np\n",
    "import matplotlib.pyplot as plt"
   ]
  },
  {
   "cell_type": "markdown",
   "metadata": {},
   "source": [
    "## Funções"
   ]
  },
  {
   "cell_type": "markdown",
   "metadata": {},
   "source": [
    "A função `CalculaTransformador` recebe os parâmetros do circuito e nos retornas as correntes no transformador primário e no secundário"
   ]
  },
  {
   "cell_type": "code",
   "execution_count": 2,
   "metadata": {},
   "outputs": [],
   "source": [
    "def CalcularTransformador(Uf, Rc, k, f, R1, R2, L1, L2, C1, p):\n",
    "  # Tensão da fonte (pico) = Uf   # Coeficiente de acoplamento = k\n",
    "  #  # Indutâncias\n",
    "  #   L2 = L1\n",
    "\n",
    "  #   #Resistências\n",
    "  #   R2 = R1\n",
    "\n",
    "  #   # Cacitâncias\n",
    "    C2 = C1\n",
    "\n",
    "    # Freqncia\n",
    "    #f\n",
    "\n",
    "    # Frequêna angular\n",
    "    w = 2*pi*f\n",
    "  \n",
    "    # Ressonancia \n",
    "    wr = 1/sqrt(L1*C1)\n",
    "  \n",
    "    # Indutancia    \n",
    "    M = k * sqrt(L1*L2)\n",
    "    \n",
    "   # Reatâncias dormador\n",
    "    XL1 = 1j*w*L1\n",
    "    XL2 = 1j*w*L2\n",
    "    \n",
    "    XC1 = 1/(1j*w*C1)\n",
    "    XC2 = 1/(1j*w*C2)\n",
    "    \n",
    "    XM = 1j*w*M\n",
    "\n",
    "    M = k * sqrt(L1*L1)\n",
    "    w = 2*pi*f\n",
    "    XL = 1j*w*L1\n",
    "\n",
    "\n",
    "    \n",
    "    if p:    \n",
    "      # Reatâncias da Indutância mútua\n",
    "      print(f\"A Indutäncia Mútua M:{M} Henry\")\n",
    "      print(f\"A frequência de ressonancia Wr é: {wr/(2*pi)} Hz\")\n",
    "      print(f\"A frequência angular W é: {w} Rad/s\")\n",
    "      print(f\"Reatancia do indutor: {XL1}\")\n",
    "      print(f\"Reatancia do capacitor: {XC1}\")\n",
    "      print(f\"Reatancia dos transformadores: {XM}\")\n",
    "      print(f\"-\"*30)\n",
    "\n",
    "    # Impedância Equivalente\n",
    "    Z = np.array([[XC1 + R1 + XL1, -XM], [-XM, XL1 + R2 + ( (XC1 * Rc)/(XC1 + Rc) ) ]])\n",
    "    # Tensão em forma fasorial\n",
    "    V = np.array([Uf, 0])\n",
    "    # i trata-se de uma tupla com os valores fasorias de i1 e i2\n",
    "    i = np.dot(np.linalg.inv(Z),V)\n",
    "\n",
    "    #tensao no secundario\n",
    "    Zeq = ( (XC1 * Rc)/(XC1 + Rc) )\n",
    "    v2 = Zeq * i[1]\n",
    "    \n",
    "    return i[0], i[1], v2\n"
   ]
  },
  {
   "cell_type": "markdown",
   "metadata": {},
   "source": [
    "## Declarações das variáveis"
   ]
  },
  {
   "cell_type": "code",
   "execution_count": 3,
   "metadata": {},
   "outputs": [],
   "source": [
    "\n",
    "# Entradas da função: Uf(volts), Rc(ohms), k, R1(ohms), L1(Henry), C1(Henry)\n",
    "Uf = 33  # Tensão da fonte (pico)\n",
    "Rc = 400     # Resistência do capacitor\n",
    "k = 0.4714    # Coeficiente de acoplamento\n",
    "f = 44646.464    # frequencia da fonte\n",
    "Vt = (2/pi)*Uf*cos(2*pi*f)\n",
    "R1 = 825e-3    # Resistência da bobina primaria\n",
    "R2 = 670e-3    # Resistência da bobina secundaria\n",
    "L1 = 135e-6 #Indutância da bobina primaria\n",
    "L2 = 101.4e-6  #Indutância da bobina secundaria\n",
    "C1 = 1e-7   # Capacitância dos capacitores"
   ]
  },
  {
   "cell_type": "markdown",
   "metadata": {},
   "source": [
    "# Cálculos"
   ]
  },
  {
   "cell_type": "markdown",
   "metadata": {},
   "source": [
    "## Cálculo de $I_1$ e $I_2$"
   ]
  },
  {
   "cell_type": "code",
   "execution_count": 4,
   "metadata": {},
   "outputs": [
    {
     "name": "stdout",
     "output_type": "stream",
     "text": [
      "A Indutäncia Mútua M:6.3639e-05 Henry\n",
      "A frequência de ressonancia Wr é: 43316.48895742645 Hz\n",
      "A frequência angular W é: 280522.0066223223 Rad/s\n",
      "Reatancia do indutor: 37.870470894013515j\n",
      "Reatancia do capacitor: -35.64782713629804j\n",
      "Reatancia dos transformadores: 15.471854648846241j\n",
      "------------------------------\n",
      "i1: (-0.33916618926135134-0.20118451927188147j)\n",
      "i2: (-0.05945136266244476-1.3340773542279238j)\n"
     ]
    }
   ],
   "source": [
    "i1, i2, v2 = CalcularTransformador(Vt, Rc, k, f, R1, R2, L1, L2, C1, True)\n",
    "print(f\"i1: {i1}\")\n",
    "print(f\"i2: {i2}\")"
   ]
  },
  {
   "cell_type": "markdown",
   "metadata": {},
   "source": [
    "## Cálculos Adicionais"
   ]
  },
  {
   "cell_type": "markdown",
   "metadata": {},
   "source": [
    "Cálculo de:\n",
    "- Tensão $V_2$ (Tensão de Saída)\n",
    "- Correntes e tensões de pico\n",
    "- Relação $\\frac{V_1}{V_2}$\n",
    "- Potências"
   ]
  },
  {
   "cell_type": "code",
   "execution_count": 5,
   "metadata": {},
   "outputs": [
    {
     "name": "stdout",
     "output_type": "stream",
     "text": [
      "Com resistor na saída de 400.00 Ω:\n",
      "i1 (pico) = 0.394 A\n",
      "i2 (pico) = 1.335 A\n",
      "V1 (pico) = 33.000 V\n",
      "V2 (pico) = 47.41623312 V\n",
      "Relação V1/V2 = 0.69596418\n"
     ]
    }
   ],
   "source": [
    "# ------------------------------ Tensão de Saída ----------------------------- #\n",
    "print('Com resistor na saída de %.2f Ω:' %Rc)\n",
    "print('i1 (pico) = %.3f A' %np.abs(i1))\n",
    "print('i2 (pico) = %.3f A' %np.abs(i2))\n",
    "print('V1 (pico) = %.3f V' %Uf)\n",
    "print('V2 (pico) = %.8f V' %(np.abs(v2)))\n",
    "print('Relação V1/V2 = %.8f' %(np.abs(Uf/(v2))))\n",
    "\n"
   ]
  },
  {
   "cell_type": "markdown",
   "metadata": {},
   "source": [
    "# Gráficos"
   ]
  },
  {
   "cell_type": "markdown",
   "metadata": {},
   "source": [
    "## Gráfico de $I_1$ e $I_2$ em função da frequência "
   ]
  },
  {
   "cell_type": "code",
   "execution_count": 6,
   "metadata": {},
   "outputs": [
    {
     "name": "stdout",
     "output_type": "stream",
     "text": [
      "modulos das correntes em funcão da frequência da fonte de um k = 0.4714\n"
     ]
    },
    {
     "data": {
      "image/png": "[encoded data removed]",
      "text/plain": [
       "<Figure size 432x288 with 1 Axes>"
      ]
     },
     "metadata": {
      "needs_background": "light"
     },
     "output_type": "display_data"
    },
    {
     "name": "stdout",
     "output_type": "stream",
     "text": [
      "Corrente máxima I1 = 5.839235939406721 Amper para uma frequencia de 56000.0 Hz\n",
      "------------------------------\n",
      "Corrente máxima I2 = 5.838457716482974 Ohms para uma frequencia de 56000.0\n"
     ]
    }
   ],
   "source": [
    "#Construção de gráficos de I1 e I2 em função da frequência:\n",
    "#Frequencia que vai de 10hz - 100khz\n",
    "F = np.linspace(1000,100000,100)\n",
    "I1 = []\n",
    "I2 = []\n",
    "print(\"modulos das correntes em funcão da frequência da fonte de um k = {}\".format(k))\n",
    "\n",
    "#Uf, Rc, k, f, R1, L1, C1, p\n",
    "max_i1 = 0\n",
    "max_i2 = 0\n",
    "\n",
    "for f in F:\n",
    "    i1, i2, v2 = CalcularTransformador(Vt, Rc, k, f, R1, R2, L1, L2, C1, False)\n",
    "    mod_i1 = abs(i1)\n",
    "    mod_i2 = abs(i2)\n",
    "\n",
    "    I1.append(mod_i1)\n",
    "    I2.append(mod_i2)\n",
    "\n",
    "    if mod_i1 > max_i1:\n",
    "        max_i1 = mod_i1\n",
    "        f_max_i1 = f\n",
    "\n",
    "    if mod_i2 > max_i2:\n",
    "        max_i2 = mod_i2\n",
    "        f_max_i2 = f\n",
    "\n",
    "\n",
    "plt.plot(F, I1, label = \"corrente I1\", color = \"b\")\n",
    "plt.plot(F, I2, label = \"corrente I2\", color = \"r\")\n",
    "plt.title(\"Módulo das correntes em função da frequencia\")\n",
    "plt.xlabel(\"Frequência (Hz) $f$\")\n",
    "plt.ylabel(\"Corrente (Amp) $I_1 I_2$ [A]\")\n",
    "plt.grid(True)\n",
    "plt.show()\n",
    "\n",
    "print(\"Corrente máxima I1 = {} Amper para uma frequencia de {} Hz\".format(max_i1, f_max_i1))\n",
    "print(\"-\"*30)\n",
    "print(\"Corrente máxima I2 = {} Ohms para uma frequencia de {}\".format(max_i2, f_max_i2))\n",
    "\n",
    "\n"
   ]
  },
  {
   "cell_type": "markdown",
   "metadata": {},
   "source": [
    "## Observação do Módulo das correntes quando K muda"
   ]
  },
  {
   "cell_type": "code",
   "execution_count": 11,
   "metadata": {},
   "outputs": [
    {
     "name": "stdout",
     "output_type": "stream",
     "text": [
      "modulos das correntes em funcão da frequência da fonte de um k = 0.1\n",
      "Corrente máxima I1 = 2.6053438089278034 Ohms para uma frequencia de 31323.232323232325\n",
      "------------------------------\n",
      "Corrente máxima I2 = 2.5890810646588625 Ohms para uma frequencia de 32121.212121212124\n",
      "modulos das correntes em funcão da frequência da fonte de um k = 0.2\n",
      "Corrente máxima I1 = 2.6053438089278034 Ohms para uma frequencia de 31323.232323232325\n",
      "------------------------------\n",
      "Corrente máxima I2 = 2.5890810646588625 Ohms para uma frequencia de 32121.212121212124\n",
      "modulos das correntes em funcão da frequência da fonte de um k = 0.3\n",
      "Corrente máxima I1 = 2.6053438089278034 Ohms para uma frequencia de 31323.232323232325\n",
      "------------------------------\n",
      "Corrente máxima I2 = 2.5890810646588625 Ohms para uma frequencia de 32121.212121212124\n",
      "modulos das correntes em funcão da frequência da fonte de um k = 0.4\n",
      "Corrente máxima I1 = 2.6053438089278034 Ohms para uma frequencia de 31323.232323232325\n",
      "------------------------------\n",
      "Corrente máxima I2 = 2.5890810646588625 Ohms para uma frequencia de 32121.212121212124\n"
     ]
    },
    {
     "data": {
      "image/png": "[encoded data removed]",
      "text/plain": [
       "<Figure size 432x288 with 1 Axes>"
      ]
     },
     "metadata": {
      "needs_background": "light"
     },
     "output_type": "display_data"
    }
   ],
   "source": [
    "#Variáveis previamente estabelecidas já\n",
    "\n",
    "F = np.linspace(1000,80000,100)\n",
    "I1 = []\n",
    "I2 = []\n",
    "\n",
    "\n",
    "#Uf, Rc, f, R1, L1, C1, p\n",
    "max_i1 = 0\n",
    "max_i2 = 0\n",
    "\n",
    "K = [0.1,0.2, 0.3, 0.4]\n",
    "\n",
    "for i in range(len(K)):    \n",
    "    I1 = []\n",
    "    I2 = []\n",
    "    max_i1 = 0\n",
    "    max_i2 = 0\n",
    "    \n",
    "    print(\"modulos das correntes em funcão da frequência da fonte de um k = {}\".format(K[i]))\n",
    "    \n",
    "    for f in F:\n",
    "        i1, i2, v2 = CalcularTransformador(Vt, Rc, k, f, R1, R2, L1, L2, C1, False)\n",
    "        mod_i1 = abs(i1)\n",
    "        mod_i2 = abs(i2)\n",
    "\n",
    "        I1.append(mod_i1)\n",
    "        I2.append(mod_i2)\n",
    "\n",
    "        if mod_i1 > max_i1:\n",
    "            max_i1 = mod_i1\n",
    "            f_max_i1 = f\n",
    "\n",
    "        if mod_i2 > max_i2:\n",
    "            max_i2 = mod_i2\n",
    "            f_max_i2 = f\n",
    "\n",
    "\n",
    "    plt.plot(F, I1, label = \"corrente I1 para um k = {}\".format(K[i]))\n",
    "    plt.plot(F, I2, label = \"corrente I2 para um k = {}\".format(K[i]))\n",
    "    plt.title(\"Módulo das correntes em funções de K\")\n",
    "    plt.xlabel(\"Frequência $f$\")\n",
    "    plt.ylabel(\"Corrente $I_1 I_2$ [A]\")\n",
    " \n",
    "\n",
    "    print(\"Corrente máxima I1 = {} Ohms para uma frequencia de {}\".format(max_i1, f_max_i1))\n",
    "    print(\"-\"*30)\n",
    "    print(\"Corrente máxima I2 = {} Ohms para uma frequencia de {}\".format(max_i2, f_max_i2))\n",
    "\n",
    "\n",
    "plt.grid(True)\n",
    "plt.show()\n",
    "\n",
    "\n",
    "\n"
   ]
  },
  {
   "cell_type": "markdown",
   "metadata": {},
   "source": [
    "## Gráfico de Potência e Eficiência em função da frequência"
   ]
  },
  {
   "cell_type": "code",
   "execution_count": 8,
   "metadata": {},
   "outputs": [
    {
     "name": "stdout",
     "output_type": "stream",
     "text": [
      "modulos das Potencias em funcão da frequência da fonte de um k = 0.4714\n"
     ]
    },
    {
     "data": {
      "image/png": "[encoded data removed]",
      "text/plain": [
       "<Figure size 432x288 with 1 Axes>"
      ]
     },
     "metadata": {
      "needs_background": "light"
     },
     "output_type": "display_data"
    },
    {
     "name": "stdout",
     "output_type": "stream",
     "text": [
      "Potencia máxima S1 = 0 Hz para uma frequencia de 0\n",
      "------------------------------\n",
      "Potencia máxima S2 = (34.41687620683839+8.881784197001252e-16j) Watts para uma frequencia de 56060.606060606064\n"
     ]
    }
   ],
   "source": [
    "#Construção de gráficos das potências e da eficiência em função da frequência:\n",
    "\n",
    "# Criando um vetor para variar a frequência de 10hz - 100khz\n",
    "F = np.linspace(1000,80000,100)\n",
    "L_s1 = [] \n",
    "L_s2 = [] \n",
    "print(\"modulos das Potencias em funcão da frequência da fonte de um k = {}\".format(k))\n",
    "\n",
    "max_s1 = 0\n",
    "max_s2 = 0\n",
    "\n",
    "f_max_s1 = 0\n",
    "f_max_s2 = 0\n",
    "\n",
    "\n",
    "for f in F:\n",
    "    i1, i2, v2 = CalcularTransformador(Vt, Rc, k, f, R1, R2, L1, L2, C1, False)\n",
    "\n",
    "    i_rc =  v2/Rc\n",
    "\n",
    "    # Potências:\n",
    "    S1 = Uf * i1.conjugate()/2\n",
    "    # print('Potência real = %.2f' %(S1.real))\n",
    "\n",
    "    S2 = v2 * i_rc.conjugate()/2\n",
    "    # print('Potência real = %.2f' %(S2.real))\n",
    "\n",
    "    \n",
    "    if S1 > max_s1:\n",
    "        max_s1 = S1\n",
    "        f_max_s1 = f\n",
    "\n",
    "    if S2 > max_s2:\n",
    "        max_s2 = S2\n",
    "        f_max_s2 = f\n",
    "\n",
    "    L_s1.append(abs(S1))\n",
    "    L_s2.append(abs(S2))\n",
    "\n",
    "plt.plot(F, L_s1, label = \"S1\")\n",
    "plt.legend()\n",
    "\n",
    "plt.plot(F, L_s2, label = \"S2\")\n",
    "plt.legend()\n",
    "\n",
    "plt.xlabel(\"Frequencia - Hz\")\n",
    "plt.ylabel(\"Potencia - Watts\")\n",
    "\n",
    "plt.grid(True)\n",
    "plt.show()\n",
    "\n",
    "\n",
    "print(\"Potencia máxima S1 = {} Hz para uma frequencia de {}\".format(max_s1, f_max_s1))\n",
    "print(\"-\"*30)\n",
    "print(\"Potencia máxima S2 = {} Watts para uma frequencia de {}\".format(max_s2, f_max_s2))"
   ]
  },
  {
   "cell_type": "markdown",
   "metadata": {},
   "source": [
    "## Gráfico da Tensão de Pico no Secundário em Função do Coeficiente de Acoplamento"
   ]
  },
  {
   "cell_type": "code",
   "execution_count": 9,
   "metadata": {},
   "outputs": [
    {
     "data": {
      "image/png": "[encoded data removed]",
      "text/plain": [
       "<Figure size 432x288 with 1 Axes>"
      ]
     },
     "metadata": {
      "needs_background": "light"
     },
     "output_type": "display_data"
    },
    {
     "name": "stdout",
     "output_type": "stream",
     "text": [
      "K maximo de 0.47147147147147145, com Tensao de 143.80434811335877 V\n"
     ]
    }
   ],
   "source": [
    "#Construção de um gráfico que relacione o valor de pico da tensão no secundário (no resistor RC) com o coeficiente de acoplamento\n",
    "K=np.linspace(0,1,1000)\n",
    "V2=[]\n",
    "f = 36636 # Frequencia fixa, usamos a de pico \n",
    "w = 2 * pi * f\n",
    "max_k = 0\n",
    "max_v2 = 0\n",
    "\n",
    "for k in K:\n",
    "    m = k*sqrt(L1*L1)\n",
    "    xm = 1j*w*m\n",
    "    i1, i2, v2 = CalcularTransformador(Vt, Rc, k, f, R1, R2, L1, L2, C1, False)\n",
    "    # V2.append(abs(Rc*i2)/10)\n",
    "    V2.append(abs(v2))\n",
    "\n",
    "    # if (abs(Rc*i2) > max_v2):\n",
    "    #     max_k = k\n",
    "    \n",
    "plt.plot(K,V2)\n",
    "plt.xlabel(\"Coeficiente de acoplamento $k$\")\n",
    "plt.ylabel(\"Tensão $V_2$ [V]\")\n",
    "plt.grid(True)\n",
    "plt.show()\n",
    "\n",
    "k_max = K[V2.index(max(V2))]\n",
    "print(f\"K maximo de {k_max}, com Tensao de {max(V2)} V\")"
   ]
  },
  {
   "cell_type": "code",
   "execution_count": null,
   "metadata": {},
   "outputs": [],
   "source": []
  }
 ],
 "metadata": {
  "interpreter": {
   "hash": "109759da1724bafb8edff37bbc7fd2d0b07529aadb2fdc62a4f8d371629dfa36"
  },
  "kernelspec": {
   "display_name": "Python 3 (ipykernel)",
   "language": "python",
   "name": "python3"
  },
  "language_info": {
   "codemirror_mode": {
    "name": "ipython",
    "version": 3
   },
   "file_extension": ".py",
   "mimetype": "text/x-python",
   "name": "python",
   "nbconvert_exporter": "python",
   "pygments_lexer": "ipython3",
   "version": "3.9.7"
  }
 },
 "nbformat": 4,
 "nbformat_minor": 2
}
