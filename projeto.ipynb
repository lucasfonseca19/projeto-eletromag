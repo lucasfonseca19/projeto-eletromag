{
 "cells": [
  {
   "cell_type": "markdown",
   "metadata": {
    "pycharm": {
     "name": "#%% md\n"
    }
   },
   "source": [
    "# Diagrama do modelo eletrodinâmico do circuito"
   ]
  },
  {
   "cell_type": "markdown",
   "metadata": {
    "pycharm": {
     "name": "#%% md\n"
    }
   },
   "source": [
    "<img src=\"circuito.png\" alt=\"Diagrama do circuito\" style=\"height: 100px; width:100px;\"/>"
   ]
  },
  {
   "cell_type": "markdown",
   "metadata": {
    "pycharm": {
     "name": "#%% md\n"
    }
   },
   "source": [
    "## Importações"
   ]
  },
  {
   "cell_type": "code",
   "execution_count": 422,
   "metadata": {
    "pycharm": {
     "name": "#%%\n"
    }
   },
   "outputs": [],
   "source": [
    "from cmath import *\n",
    "from math import sqrt, pow, pi\n",
    "import imageio\n",
    "import numpy as np\n",
    "import matplotlib.pyplot as plt\n",
    "import os"
   ]
  },
  {
   "cell_type": "markdown",
   "metadata": {
    "pycharm": {
     "name": "#%% md\n"
    }
   },
   "source": []
  },
  {
   "cell_type": "markdown",
   "metadata": {
    "pycharm": {
     "name": "#%% md\n"
    }
   },
   "source": [
    "A função `CalculaTransformador` recebe os parâmetros do circuito e nos retornas as correntes no transformador primário e no secundário"
   ]
  },
  {
   "cell_type": "code",
   "execution_count": 423,
   "metadata": {
    "pycharm": {
     "name": "#%%\n"
    }
   },
   "outputs": [],
   "source": [
    "def calcular_transformador(Uf, Rc, k, f, R1, R2, L1, L2, C, p):\n",
    "    w = 2 * pi * f  # Frequência angular\n",
    "    wr = 1 / sqrt(L1 * C)  # Ressonância\n",
    "    M = k * sqrt(L1 * L2)  # Indutância Mútua\n",
    "    # ---------- Reatâncias ----------------- #\n",
    "    XL1 = 1j * w * L1  # reatância do Indutor 1\n",
    "    XL2 = 1j * w * L2  # reatância do Indutor 2\n",
    "    XC1 = 1 / (1j * w * C)  # reatância da Capacitor 1\n",
    "    XC2 = 1 / (1j * w * C)  # reatância da Capacitor 2\n",
    "    XM = 1j * w * M  # reatância da Indutância Mútua\n",
    "\n",
    "\n",
    "    # ----------- Prints -------- #\n",
    "    if p:\n",
    "        # Reatâncias da Indutância mútua\n",
    "        print(f\"A Indutância Mútua M:{M} Henry\")\n",
    "        print(f\"A frequência de ressonância Wr é: {wr / (2 * pi)} Hz\")\n",
    "        print(f\"A frequência angular W é: {w} Rad/s\")\n",
    "        print(f\"Reatância do indutor: {XL1}\")\n",
    "        print(f\"Reatância do capacitor: {XC1}\")\n",
    "        print(f\"Reatância dos transformadores: {XM}\")\n",
    "        print(f\"-\" * 30)\n",
    "\n",
    "    # --------- Impedância Equivalente Sistema ---------------- #\n",
    "    Z = np.array([[XC1 + R1 + XL1, -XM], [-XM, XL1 + R2 + ((XC1 * Rc) / (XC1 + Rc))]])\n",
    "\n",
    "    # ------ Impedância Equivalente na Saída (RC) -------------- #\n",
    "    Zeq = ((XC2 * Rc) / (XC2 + Rc))\n",
    "\n",
    "    # ---------------- Tensão em forma fasorial ---------------- #\n",
    "    V = np.array([Uf, 0])\n",
    "\n",
    "    # -------- Correntes no primário e no secundário ----------- #\n",
    "    i = np.dot(np.linalg.inv(Z), V)\n",
    "    \n",
    "    # --------------- Tensão de Saída (Secundário) ------------- #\n",
    "    v2 = Zeq * i[1]\n",
    "    return i[0], i[1], v2"
   ]
  },
  {
   "cell_type": "markdown",
   "metadata": {
    "pycharm": {
     "name": "#%% md\n"
    }
   },
   "source": [
    "## Declarações das variáveis"
   ]
  },
  {
   "cell_type": "code",
   "execution_count": 424,
   "metadata": {
    "pycharm": {
     "name": "#%%\n"
    }
   },
   "outputs": [],
   "source": [
    "\n",
    "# Entradas da função: Uf(volts), Rc(ohms), k, R1(ohms), L1(Henry), C1(Henry)\n",
    "Uf = 33# Tensão da fonte (pico)\n",
    "Rc = 400  # Resistência do capacitor\n",
    "k = 0.4714  # Coeficiente de acoplamento\n",
    "f = 44646.464  # frequencia da fonte\n",
    "# f = 56060  # frequencia da fonte\n",
    "Vt = (2 / pi) * Uf * cos(2*  pi * f)\n",
    "R1 = 825e-3  # Resistência da bobina primaria\n",
    "R2 = 670e-3  # Resistência da bobina secundaria\n",
    "L1 = 135e-6  # Indutância da bobina primaria\n",
    "L2 = 101.4e-6  # Indutância da bobina secundaria\n",
    "C1 = 1e-7  # Capacitância dos capacitores"
   ]
  },
  {
   "cell_type": "markdown",
   "metadata": {
    "pycharm": {
     "name": "#%% md\n"
    }
   },
   "source": [
    "# Cálculos"
   ]
  },
  {
   "cell_type": "markdown",
   "metadata": {
    "pycharm": {
     "name": "#%% md\n"
    }
   },
   "source": [
    "## Cálculo de $I_1$ e $I_2$"
   ]
  },
  {
   "cell_type": "code",
   "execution_count": 425,
   "metadata": {
    "pycharm": {
     "name": "#%%\n"
    }
   },
   "outputs": [
    {
     "name": "stdout",
     "output_type": "stream",
     "text": [
      "A Indutância Mútua M:5.51538e-05 Henry\n",
      "A frequência de ressonância Wr é: 43316.48895742645 Hz\n",
      "A frequência angular W é: 280522.0066223223 Rad/s\n",
      "Reatância do indutor: 37.870470894013515j\n",
      "Reatância do capacitor: -35.64782713629804j\n",
      "Reatância dos transformadores: 15.471854648846241j\n",
      "------------------------------\n",
      "i1: (-0.33916618926135134-0.20118451927188147j)\n",
      "i2: (-0.05945136266244476-1.3340773542279238j)\n"
     ]
    }
   ],
   "source": [
    "i1, i2, v2 = calcular_transformador(Vt, Rc, k, f, R1, R2, L1, L2, C1, True)\n",
    "print(f\"i1: {i1}\")  # Corrente no primário em sua forma fasorial\n",
    "print(f\"i2: {i2}\")  # Corrente no secundário em sua forma fasorial"
   ]
  },
  {
   "cell_type": "markdown",
   "metadata": {
    "pycharm": {
     "name": "#%% md\n"
    }
   },
   "source": [
    "## Cálculos Adicionais"
   ]
  },
  {
   "cell_type": "markdown",
   "metadata": {
    "pycharm": {
     "name": "#%% md\n"
    }
   },
   "source": [
    "Cálculo de:\n",
    "- Tensão $V_2$ (Tensão de Saída)\n",
    "- Correntes e tensões de pico\n",
    "- Relação $\\frac{V_1}{V_2}$\n",
    "- Potências"
   ]
  },
  {
   "cell_type": "code",
   "execution_count": 426,
   "metadata": {
    "pycharm": {
     "name": "#%%\n"
    }
   },
   "outputs": [
    {
     "name": "stdout",
     "output_type": "stream",
     "text": [
      "Com resistor na saída de 400.00 Ω:\n",
      "i1 (pico) = 0.394 A\n",
      "i2 (pico) = 1.335 A\n",
      "V1 (pico) = 33.000 V\n",
      "V2 (pico) = 47.41623312 V\n",
      "Relação V1/V2 = 0.69596418\n"
     ]
    }
   ],
   "source": [
    "# ------------------------------ Tensão de Saída ----------------------------- #\n",
    "print('Com resistor na saída de %.2f Ω:' %Rc)\n",
    "print('i1 (pico) = %.3f A' %np.abs(i1))\n",
    "print('i2 (pico) = %.3f A' %np.abs(i2))\n",
    "print('V1 (pico) = %.3f V' %Uf)\n",
    "print('V2 (pico) = %.8f V' %(np.abs(v2)))\n",
    "print('Relação V1/V2 = %.8f' %(np.abs(Uf/(v2))))\n",
    "\n"
   ]
  },
  {
   "cell_type": "markdown",
   "metadata": {
    "pycharm": {
     "name": "#%% md\n"
    }
   },
   "source": [
    "# Gráficos"
   ]
  },
  {
   "cell_type": "markdown",
   "metadata": {
    "pycharm": {
     "name": "#%% md\n"
    }
   },
   "source": [
    "## Gráfico de $I_1$ e $I_2$ em função da frequência "
   ]
  },
  {
   "cell_type": "code",
   "execution_count": 427,
   "metadata": {
    "pycharm": {
     "name": "#%%\n"
    }
   },
   "outputs": [
    {
     "name": "stdout",
     "output_type": "stream",
     "text": [
      "Módulos das correntes em função da frequência da fonte sendo o coef. de acoplamento = 0.4714\n",
      "Corrente máxima I1 = 5.878150358437183 para uma frequencia de 56060.606060606064\n",
      "------------------------------\n",
      "Corrente máxima I2 = 5.859485481747054 para uma frequencia de 56060.606060606064\n"
     ]
    },
    {
     "data": {
      "image/png": "[encoded data removed]",
      "text/plain": [
       "<Figure size 432x288 with 1 Axes>"
      ]
     },
     "metadata": {},
     "output_type": "display_data"
    }
   ],
   "source": [
    "#Construção de gráficos de I1 e I2 em função da frequência:\n",
    "#Frequencia que vai de 10hz - 100khz\n",
    "F = np.linspace(1000,80000,100)\n",
    "I1 = []\n",
    "I2 = []\n",
    "print(\"Módulos das correntes em função da frequência da fonte sendo o coef. de acoplamento = {}\".format(k))\n",
    "\n",
    "max_i1 = 0\n",
    "max_i2 = 0\n",
    "\n",
    "for f in F:\n",
    "    i1, i2, v2 = calcular_transformador(Vt, Rc, k, f, R1, R2, L1, L2, C1, False)\n",
    "    mod_i1 = abs(i1)\n",
    "    mod_i2 = abs(i2)\n",
    "\n",
    "    I1.append(mod_i1)\n",
    "    I2.append(mod_i2)\n",
    "\n",
    "    if mod_i1 > max_i1:\n",
    "        max_i1 = mod_i1\n",
    "        f_max_i1 = f\n",
    "\n",
    "    if mod_i2 > max_i2:\n",
    "        max_i2 = mod_i2\n",
    "        f_max_i2 = f\n",
    "\n",
    "fig, ax = plt.subplots()\n",
    "ax.spines['top'].set_visible(False)\n",
    "ax.spines['right'].set_visible(False)\n",
    "ax.spines['bottom'].set_visible(False)\n",
    "text1 = \"I1 Máx = {:.2f}A e {:.2f} Hz\".format(max_i1, f_max_i1)\n",
    "text2 = \"I2 Máx = {:.3f}A e {:.2f} Hz\".format(max_i2, f_max_i2)\n",
    "bbox_props = dict(boxstyle='round', fc='w', ec='k', lw=1,alpha=0)\n",
    "arrowprops=dict(arrowstyle=\"->\",connectionstyle=\"angle,angleA=0,angleB=-60\")\n",
    "arrowpropsred=dict(arrowstyle=\"->\",connectionstyle=\"angle,angleA=0,angleB=-60\",color=\"#af1234\")\n",
    "ax.annotate(text1, xy=(f_max_i1, max_i1), xytext=(95000,0.8), bbox=bbox_props, arrowprops=arrowpropsred, color=\"#af1234\", fontsize=12)\n",
    "ax.annotate(text2, xy=(f_max_i2, max_i2), xytext=(95000,0.6), bbox=bbox_props, arrowprops=arrowprops,color=\"#050505\", fontsize=12)\n",
    "ax.spines['left'].set_visible(False)\n",
    "plt.style.use('seaborn-whitegrid')\n",
    "plt.plot(F, I1, label=\"corrente I1\", color=\"#af1234\")\n",
    "plt.plot(F, I2, label=\"corrente I2\", color=\"#050505\")\n",
    "plt.title(\"Módulo das correntes em função da frequencia, para k = 0,4714\",pad=20)\n",
    "plt.xlabel(\"Frequência $f$\",labelpad=20)\n",
    "plt.ylabel(\"Corrente $I_1 I_2$ [A]\",labelpad=20)\n",
    "plt.grid(True)\n",
    "plt.savefig(\"correntes_frequencia.png\", dpi=300)\n",
    "\n",
    "print(\"Corrente máxima I1 = {} para uma frequencia de {}\".format(max_i1, f_max_i1))\n",
    "print(\"-\" * 30)\n",
    "print(\"Corrente máxima I2 = {} para uma frequencia de {}\".format(max_i2, f_max_i2))\n"
   ]
  },
  {
   "cell_type": "markdown",
   "metadata": {
    "pycharm": {
     "name": "#%% md\n"
    }
   },
   "source": [
    "## Gráfico de   e   em função da frequência e variando K"
   ]
  },
  {
   "cell_type": "code",
   "execution_count": 428,
   "metadata": {
    "pycharm": {
     "name": "#%%\n"
    }
   },
   "outputs": [],
   "source": [
    "K = np.linspace(0.1, 0.5, 50)\n",
    "F = np.linspace(1000,80000,100)\n",
    "for i in range(len(K)):\n",
    "    I1 = []\n",
    "    I2 = []\n",
    "    max_i1 = 0\n",
    "    max_i2 = 0\n",
    "    for f in F:\n",
    "        i1, i2, v2 = calcular_transformador(Vt, Rc, K[i],f, R1,R2, L1,L2, C1, False)\n",
    "        mod_i1 = abs(i1)\n",
    "        mod_i2 = abs(i2)\n",
    "\n",
    "        I1.append(mod_i1)\n",
    "        I2.append(mod_i2)\n",
    "\n",
    "        if mod_i1 > max_i1:\n",
    "            max_i1 = mod_i1\n",
    "            f_max_i1 = f\n",
    "\n",
    "        if mod_i2 > max_i2:\n",
    "            max_i2 = mod_i2\n",
    "            f_max_i2 = f\n",
    "\n",
    "#     fig, ax = plt.subplots()\n",
    "#     ax.spines['top'].set_visible(False)\n",
    "#     ax.spines['right'].set_visible(False)\n",
    "#     ax.spines['bottom'].set_visible(False)\n",
    "#     ax.spines['left'].set_visible(False)\n",
    "#     plt.xlim(1000, 150000)\n",
    "#     plt.ylim(0, 3)\n",
    "#     plt.style.use('seaborn-whitegrid')\n",
    "#     plt.plot(F, I1, label=\"corrente I1\".format(K[i]), color=\"#af1234\", linewidth=3)\n",
    "#     plt.plot(F, I2, label=\"corrente I2\".format(K[i]), color=\"#050505\", linewidth=3)\n",
    "#     plt.annotate(\"K = {}\".format(round(K[i],2)), xy=(10000, 2.5))\n",
    "#     plt.legend(frameon=False)\n",
    "#     plt.title(\"Módulo das correntes em função de K\", pad=20)\n",
    "#     plt.xlabel(\"Frequência $f$\",labelpad=20)\n",
    "#     plt.ylabel(\"Correntes [A]\",labelpad=20)\n",
    "#     plt.savefig(f'Coef_acoplamento_{K[i]}.png', dpi=300)\n",
    "\n",
    "# # Abaixo estamos pegando todos os plots gerados e criando uma animação em gif, ver o arquivo Coef_acoplamento.gif\n",
    "# with imageio.get_writer('Coef_acoplamento.gif', mode='i') as writer:\n",
    "#     for i in range(len(K)):\n",
    "#         image = imageio.imread(f'Coef_acoplamento_{K[i]}.png')\n",
    "#         writer.append_data(image)\n",
    "#         os.remove(f'Coef_acoplamento_{K[i]}.png')\n",
    "\n",
    "\n",
    "\n"
   ]
  },
  {
   "cell_type": "markdown",
   "metadata": {
    "pycharm": {
     "name": "#%% md\n"
    }
   },
   "source": [
    "## Gráfico de Potência e Eficiência em função da frequência"
   ]
  },
  {
   "cell_type": "code",
   "execution_count": 429,
   "metadata": {},
   "outputs": [],
   "source": [
    "K = np.linspace(0.2, 0.25, 80)\n",
    "F = np.linspace(1000,80000,200)\n",
    "\n",
    "for k in range(len(K)):\n",
    "    L_s1 = []   # Lista para armazenar os valores de potência no primário\n",
    "    L_s2 = []   # Lista para armazenar os valores de potência no secundário\n",
    "\n",
    "    max_s1 = 0\n",
    "    max_s2 = 0\n",
    "\n",
    "    f_max_s1 = 0\n",
    "    f_max_s2 = 0\n",
    "    for f in F:\n",
    "        i1, i2, v2 = calcular_transformador(Vt, Rc, k, f, R1, R2, L1, L2, C1, False)\n",
    "        i_rc = v2 / Rc\n",
    "\n",
    "        # Potências:\n",
    "        S1 = (Vt * i1.conjugate()/2)\n",
    "        S2 = (v2**2)/Rc\n",
    "\n",
    "        if S1 > max_s1:\n",
    "            max_s1 = S1\n",
    "            f_max_s1 = f\n",
    "\n",
    "        if S2 > max_s2:\n",
    "            max_s2 = S2\n",
    "            f_max_s2 = f\n",
    "\n",
    "        L_s1.append(abs(S1))\n",
    "        L_s2.append(abs(S2))\n",
    "\n",
    "#     fig, ax = plt.subplots()\n",
    "#     ax.spines['top'].set_visible(False)\n",
    "#     ax.spines['right'].set_visible(False)\n",
    "#     ax.spines['bottom'].set_visible(False)\n",
    "#     ax.spines['left'].set_visible(False)\n",
    "#     plt.xlim(1000, 80000)\n",
    "#     plt.ylim(0, 15)\n",
    "#     plt.style.use('seaborn-whitegrid')\n",
    "#     plt.plot(F, L_s1, label=\"Potencia S1\".format(K[i]), color=\"#af1234\", linewidth=3)\n",
    "#     plt.plot(F, L_s2, label=\"Potencia S2\".format(K[k]), color=\"#050505\", linewidth=3)\n",
    "#     plt.annotate(\"K = {}\".format(round(K[k],2)), xy=(10000, 2.5))\n",
    "#     plt.legend(frameon=False)\n",
    "#     plt.title(\"Módulo das Potencias em função de K\", pad=20)\n",
    "#     plt.xlabel(\"Frequência $f$\",labelpad=20)\n",
    "#     plt.ylabel(\"potencias [W]\",labelpad=20)\n",
    "#     plt.savefig(f'Potencia_{K[k]}.png', dpi=300)\n",
    "\n",
    "# # Abaixo estamos pegando todos os plots gerados e criando uma animação em gif, ver o arquivo Coef_acoplamento.gif\n",
    "# with imageio.get_writer('Potencias.gif', mode='i') as writer:\n",
    "#     for i in range(len(K)):\n",
    "#         image = imageio.imread(f'Potencia_{K[i]}.png')\n",
    "#         writer.append_data(image)\n",
    "#         os.remove(f'Potencia_{K[i]}.png')\n"
   ]
  },
  {
   "cell_type": "code",
   "execution_count": 430,
   "metadata": {
    "pycharm": {
     "name": "#%%\n"
    }
   },
   "outputs": [
    {
     "name": "stdout",
     "output_type": "stream",
     "text": [
      "Potencia máxima S1 = (60.171590993970916-0.3436470689205191j) para uma frequencia de 56060.606060606064\n",
      "------------------------------\n",
      "Potencia máxima S2 = (34.41687620683839+8.881784197001252e-16j) para uma frequencia de 56060.606060606064\n"
     ]
    },
    {
     "name": "stderr",
     "output_type": "stream",
     "text": [
      "d:\\anaconda-Python\\lib\\site-packages\\matplotlib\\text.py:1761: ComplexWarning: Casting complex values to real discards the imaginary part\n",
      "  y = float(self.convert_yunits(y))\n"
     ]
    },
    {
     "data": {
      "image/png": "[encoded data removed]",
      "text/plain": [
       "<Figure size 432x288 with 1 Axes>"
      ]
     },
     "metadata": {},
     "output_type": "display_data"
    }
   ],
   "source": [
    "F = np.linspace(1000,80000,100) # Intervalo de frequências de 10Hz até 50kHz\n",
    "L_s1 = []   # Lista para armazenar os valores de potência no primário\n",
    "L_s2 = []   # Lista para armazenar os valores de potência no secundário\n",
    "\n",
    "max_s1 = 0\n",
    "max_s2 = 0\n",
    "\n",
    "f_max_s1 = 0\n",
    "f_max_s2 = 0\n",
    "k = 0.4714\n",
    "for f in F:\n",
    "    i1, i2, v2 = calcular_transformador(Vt, Rc, k, f, R1, R2, L1, L2, C1, False)\n",
    "    i_rc = v2 / Rc\n",
    "    # Potências:\n",
    "    S1 = Vt * i1.conjugate() / 2\n",
    "    S2 = v2 * i_rc.conjugate() / 2\n",
    "    if S1 > max_s1:\n",
    "        max_s1 = S1\n",
    "        f_max_s1 = f\n",
    "    if S2 > max_s2:\n",
    "        max_s2 = S2\n",
    "        f_max_s2 = f\n",
    "    L_s1.append(abs(S1))\n",
    "    L_s2.append(abs(S2))\n",
    "\n",
    "fig, ax = plt.subplots()\n",
    "ax.spines['top'].set_visible(False)\n",
    "ax.spines['right'].set_visible(False)\n",
    "ax.spines['bottom'].set_visible(False)\n",
    "ax.spines['left'].set_visible(False)\n",
    "plt.style.use('seaborn-whitegrid')\n",
    "\n",
    "text = \"Freq: {:.2f} Hz, Potência: {:.2f} W\".format(f_max_s2, max_s2)\n",
    "bbox_props = dict(boxstyle='round', fc='white', ec='black', lw=1)\n",
    "arrowprops=dict(arrowstyle=\"->\",connectionstyle=\"angle,angleA=0,angleB=60\")\n",
    "kw = dict(xycoords='data',textcoords=\"axes fraction\",\n",
    "          arrowprops=arrowprops, bbox=bbox_props, ha=\"left\", va=\"top\")\n",
    "\n",
    "ax.annotate(text, xy=(f_max_s2,max_s2), xytext=(0.1,0.8), **kw)\n",
    "\n",
    "\n",
    "\n",
    "\n",
    "plt.plot(F, L_s1, label=\"S1\", color=\"#af1234\",linewidth=3)\n",
    "plt.plot(F, L_s2, label=\"S2\", color=\"#050505\",linewidth=3)\n",
    "plt.legend(frameon=False)\n",
    "plt.xlabel(\"Frequência [Hz]\",labelpad=20)\n",
    "plt.ylabel(\"Potencia [ W ]\", labelpad=20)\n",
    "plt.title(\"Potência em função da frequência\", pad=20)\n",
    "print(\"Potencia máxima S1 = {} para uma frequencia de {}\".format(max_s1, f_max_s1))\n",
    "print(\"-\" * 30)\n",
    "print(\"Potencia máxima S2 = {} para uma frequencia de {}\".format(max_s2, f_max_s2))\n",
    "plt.savefig(f'Potencia.png', dpi=300)\n"
   ]
  },
  {
   "cell_type": "markdown",
   "metadata": {
    "pycharm": {
     "name": "#%% md\n"
    }
   },
   "source": [
    "## Gráfico da Tensão de Pico no Secundário em Função do Coeficiente de Acoplamento"
   ]
  },
  {
   "cell_type": "code",
   "execution_count": 431,
   "metadata": {
    "pycharm": {
     "name": "#%%\n"
    }
   },
   "outputs": [
    {
     "data": {
      "image/png": "[encoded data removed]",
      "text/plain": [
       "<Figure size 432x288 with 1 Axes>"
      ]
     },
     "metadata": {},
     "output_type": "display_data"
    }
   ],
   "source": [
    "K=np.linspace(0,1,1000)\n",
    "V2=[]\n",
    "f = 36636 # Frequencia fixa, usamos a de pico\n",
    "w = 2 * pi * f\n",
    "max_k = 0\n",
    "max_v2 = 0\n",
    "\n",
    "for k in K:\n",
    "    m = k*sqrt(L1*L1)\n",
    "    xm = 1j*w*m\n",
    "    i1, i2, v2 = calcular_transformador(Vt, Rc, k, f, R1, R2, L1, L2, C1, False)\n",
    "    V2.append(abs(v2))\n",
    "\n",
    "\n",
    "k_max = K[V2.index(max(V2))]\n",
    "fig, ax = plt.subplots()\n",
    "ax.spines['top'].set_visible(False)\n",
    "ax.spines['right'].set_visible(False)\n",
    "ax.spines['bottom'].set_visible(False)\n",
    "ax.spines['left'].set_visible(False)\n",
    "plt.style.use('seaborn-whitegrid')\n",
    "\n",
    "# the text will have k_max and max_v2 in bold\n",
    "text = r\"K máx = $\\bf{%.2f}$, V2 máx = $\\bf{%.2f}$\" % (k_max, max(V2))\n",
    "bbox_props = dict(boxstyle='round', fc='white', ec='black', lw=1)\n",
    "arrowprops=dict(arrowstyle=\"->\",connectionstyle=\"angle,angleA=0,angleB=60\")\n",
    "kw = dict(xycoords='data',textcoords=\"axes fraction\",\n",
    "          arrowprops=arrowprops, bbox=bbox_props, ha=\"left\", va=\"top\")\n",
    "\n",
    "ax.annotate(text, xy=(k_max,max(V2)), xytext=(0.1,0.8), **kw)\n",
    "\n",
    "#somente para comparacao, medimos o V2, na carga, alimentando o primario com 33v, esses valores so servem para comparar com uma entreada de 33v\n",
    "v2_real = [83,85, 83, 79, 73, 65, 59, 55, 49, 43]\n",
    "dist_real = np.linspace(0.4,1,10)\n",
    "\n",
    "\n",
    "\n",
    "plt.plot(K,V2,label='simualdo', color=\"#af1234\",linewidth=3)\n",
    "plt.plot(dist_real, v2_real, 'o', label='real', color=\"#050505\", )\n",
    "plt.legend()\n",
    "plt.xlabel(\"Coeficiente de acoplamento $k$\",labelpad=20)\n",
    "plt.ylabel(\"Tensão $V_2$ [V]\",labelpad=20)\n",
    "plt.grid(True)\n",
    "plt.title(\"Tensão de Pico no Secundário em função do coeficiente de acoplamento\", pad=20)\n",
    "plt.savefig(\"tensão_acoplamento.png\", dpi=400)\n"
   ]
  },
  {
   "cell_type": "code",
   "execution_count": null,
   "metadata": {
    "pycharm": {
     "name": "#%%\n"
    }
   },
   "outputs": [],
   "source": []
  }
 ],
 "metadata": {
  "interpreter": {
   "hash": "109759da1724bafb8edff37bbc7fd2d0b07529aadb2fdc62a4f8d371629dfa36"
  },
  "kernelspec": {
   "display_name": "Python 3.7.6 ('base')",
   "language": "python",
   "name": "python3"
  },
  "language_info": {
   "codemirror_mode": {
    "name": "ipython",
    "version": 3
   },
   "file_extension": ".py",
   "mimetype": "text/x-python",
   "name": "python",
   "nbconvert_exporter": "python",
   "pygments_lexer": "ipython3",
   "version": "3.7.6"
  }
 },
 "nbformat": 4,
 "nbformat_minor": 2
}
